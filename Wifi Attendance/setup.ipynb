{
 "cells": [
  {
   "cell_type": "code",
   "execution_count": 118,
   "metadata": {},
   "outputs": [],
   "source": [
    "#!/usr/bin/env python3\n",
    "import scapy.all as scapy\n",
    "import pandas as pd\n",
    "import datetime;\n"
   ]
  },
  {
   "cell_type": "code",
   "execution_count": 119,
   "metadata": {},
   "outputs": [
    {
     "name": "stdout",
     "output_type": "stream",
     "text": [
      "               Name     Roll No          IP                 MAC\n",
      "0     AGNAEL KARAN    20BMH1096  192.168.1.3  5a:77:32:36:26:df\n",
      "1  SHAKTHI MAGENDER   20BMH1094  192.168.1.1  e8:6e:44:81:21:9a\n",
      "2         DHARSHA I   20BMH1087  172.20.10.3  46:8c:ff:48:17:76\n",
      "3   MRUTHUNJAY MANI   20BMH1017  172.20.10.4  fa:71:1c:21:20:ab\n",
      "4  SAIRAM SRIDHARAN   20BMH1005  172.20.10.5  b6:44:81:49:93:61\n"
     ]
    }
   ],
   "source": [
    "Data = pd.read_csv('Database.csv')\n",
    "print(Data)"
   ]
  },
  {
   "cell_type": "code",
   "execution_count": 120,
   "metadata": {},
   "outputs": [],
   "source": [
    "def scan(ip):\n",
    "    arp_packet = scapy.ARP(pdst=ip)\n",
    "    broadcast_packet = scapy.Ether(dst=\"ff:ff:ff:ff:ff:ff\")\n",
    "    arp_broadcast_packet = broadcast_packet/arp_packet\n",
    "    answered_list = scapy.srp(arp_broadcast_packet, timeout=10, verbose=False)[0]\n",
    "    client_list = []\n",
    "\n",
    "    for element in answered_list:\n",
    "        client_dict = {\"ip\": element[1].psrc, \"mac\": element[1].hwsrc}\n",
    "        client_list.append(client_dict)\n",
    "\n",
    "    return client_list"
   ]
  },
  {
   "cell_type": "code",
   "execution_count": 121,
   "metadata": {},
   "outputs": [],
   "source": [
    "Ip=[]\n",
    "Mac =[]\n",
    "def print_result(scan_list):\n",
    "    print(\"IP\\t\\t\\tMAC\\n----------------------------------------\")\n",
    "    for client in scan_list:\n",
    "        Ip.append(client[\"ip\"])\n",
    "        Mac.append(client[\"mac\"])\n",
    "        print(client[\"ip\"] + \"\\t\\t\" + client[\"mac\"])\n"
   ]
  },
  {
   "cell_type": "code",
   "execution_count": 122,
   "metadata": {},
   "outputs": [
    {
     "name": "stdout",
     "output_type": "stream",
     "text": [
      "IP\t\t\tMAC\n",
      "----------------------------------------\n",
      "49.57.50.46\t\t40:c8:cb:0d:57:5a\n"
     ]
    }
   ],
   "source": [
    "result_list = scan(\"192.168.102.109/24\")\n",
    "print_result(result_list)"
   ]
  },
  {
   "cell_type": "code",
   "execution_count": 123,
   "metadata": {},
   "outputs": [],
   "source": [
    "ct = datetime.datetime.now()"
   ]
  },
  {
   "cell_type": "code",
   "execution_count": 124,
   "metadata": {},
   "outputs": [],
   "source": [
    "def extractServiceName(x):\n",
    "    if x in  Mac:\n",
    "        return x\n",
    "    else:\n",
    "        return ''\n",
    "\n",
    "Data['Status'] = Data['MAC'].apply(lambda x : 'Present' if x in extractServiceName(x) else 'Absent')\n",
    "Data['Time'] = Data['MAC'].apply(lambda x : ct if x in extractServiceName(x) else ct)\n",
    "\n",
    "Data.to_csv('Attendance.csv', index=False)"
   ]
  },
  {
   "cell_type": "code",
   "execution_count": 125,
   "metadata": {},
   "outputs": [
    {
     "data": {
      "text/html": [
       "<div>\n",
       "<style scoped>\n",
       "    .dataframe tbody tr th:only-of-type {\n",
       "        vertical-align: middle;\n",
       "    }\n",
       "\n",
       "    .dataframe tbody tr th {\n",
       "        vertical-align: top;\n",
       "    }\n",
       "\n",
       "    .dataframe thead th {\n",
       "        text-align: right;\n",
       "    }\n",
       "</style>\n",
       "<table border=\"1\" class=\"dataframe\">\n",
       "  <thead>\n",
       "    <tr style=\"text-align: right;\">\n",
       "      <th></th>\n",
       "      <th>Name</th>\n",
       "      <th>Roll No</th>\n",
       "      <th>IP</th>\n",
       "      <th>MAC</th>\n",
       "      <th>Status</th>\n",
       "      <th>Time</th>\n",
       "    </tr>\n",
       "  </thead>\n",
       "  <tbody>\n",
       "    <tr>\n",
       "      <th>0</th>\n",
       "      <td>AGNAEL KARAN</td>\n",
       "      <td>20BMH1096</td>\n",
       "      <td>192.168.1.3</td>\n",
       "      <td>5a:77:32:36:26:df</td>\n",
       "      <td>Absent</td>\n",
       "      <td>2023-04-05 07:19:50.132413</td>\n",
       "    </tr>\n",
       "    <tr>\n",
       "      <th>1</th>\n",
       "      <td>SHAKTHI MAGENDER</td>\n",
       "      <td>20BMH1094</td>\n",
       "      <td>192.168.1.1</td>\n",
       "      <td>e8:6e:44:81:21:9a</td>\n",
       "      <td>Absent</td>\n",
       "      <td>2023-04-05 07:19:50.132413</td>\n",
       "    </tr>\n",
       "    <tr>\n",
       "      <th>2</th>\n",
       "      <td>DHARSHA I</td>\n",
       "      <td>20BMH1087</td>\n",
       "      <td>172.20.10.3</td>\n",
       "      <td>46:8c:ff:48:17:76</td>\n",
       "      <td>Absent</td>\n",
       "      <td>2023-04-05 07:19:50.132413</td>\n",
       "    </tr>\n",
       "    <tr>\n",
       "      <th>3</th>\n",
       "      <td>MRUTHUNJAY MANI</td>\n",
       "      <td>20BMH1017</td>\n",
       "      <td>172.20.10.4</td>\n",
       "      <td>fa:71:1c:21:20:ab</td>\n",
       "      <td>Absent</td>\n",
       "      <td>2023-04-05 07:19:50.132413</td>\n",
       "    </tr>\n",
       "    <tr>\n",
       "      <th>4</th>\n",
       "      <td>SAIRAM SRIDHARAN</td>\n",
       "      <td>20BMH1005</td>\n",
       "      <td>172.20.10.5</td>\n",
       "      <td>b6:44:81:49:93:61</td>\n",
       "      <td>Absent</td>\n",
       "      <td>2023-04-05 07:19:50.132413</td>\n",
       "    </tr>\n",
       "  </tbody>\n",
       "</table>\n",
       "</div>"
      ],
      "text/plain": [
       "               Name     Roll No          IP                 MAC  Status  \\\n",
       "0     AGNAEL KARAN    20BMH1096  192.168.1.3  5a:77:32:36:26:df  Absent   \n",
       "1  SHAKTHI MAGENDER   20BMH1094  192.168.1.1  e8:6e:44:81:21:9a  Absent   \n",
       "2         DHARSHA I   20BMH1087  172.20.10.3  46:8c:ff:48:17:76  Absent   \n",
       "3   MRUTHUNJAY MANI   20BMH1017  172.20.10.4  fa:71:1c:21:20:ab  Absent   \n",
       "4  SAIRAM SRIDHARAN   20BMH1005  172.20.10.5  b6:44:81:49:93:61  Absent   \n",
       "\n",
       "                        Time  \n",
       "0 2023-04-05 07:19:50.132413  \n",
       "1 2023-04-05 07:19:50.132413  \n",
       "2 2023-04-05 07:19:50.132413  \n",
       "3 2023-04-05 07:19:50.132413  \n",
       "4 2023-04-05 07:19:50.132413  "
      ]
     },
     "execution_count": 125,
     "metadata": {},
     "output_type": "execute_result"
    }
   ],
   "source": [
    "Data"
   ]
  }
 ],
 "metadata": {
  "kernelspec": {
   "display_name": "Python 3",
   "language": "python",
   "name": "python3"
  },
  "language_info": {
   "codemirror_mode": {
    "name": "ipython",
    "version": 3
   },
   "file_extension": ".py",
   "mimetype": "text/x-python",
   "name": "python",
   "nbconvert_exporter": "python",
   "pygments_lexer": "ipython3",
   "version": "3.10.5"
  },
  "orig_nbformat": 4,
  "vscode": {
   "interpreter": {
    "hash": "1ce4ab41de5e60bb6ed1e6d98083279fcdd09272dfa38fc11d3c0040da5f242a"
   }
  }
 },
 "nbformat": 4,
 "nbformat_minor": 2
}

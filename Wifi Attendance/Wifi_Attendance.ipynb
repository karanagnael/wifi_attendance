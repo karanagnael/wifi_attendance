{
 "cells": [
  {
   "cell_type": "code",
   "execution_count": null,
   "metadata": {},
   "outputs": [],
   "source": [
    "#!/usr/bin/env python3\n",
    "import scapy.all as scapy\n",
    "import pandas as pd\n",
    "import datetime;\n"
   ]
  },
  {
   "cell_type": "code",
   "execution_count": null,
   "metadata": {},
   "outputs": [],
   "source": [
    "Data = pd.read_csv('Database.csv')\n",
    "print(Data)"
   ]
  },
  {
   "cell_type": "code",
   "execution_count": null,
   "metadata": {},
   "outputs": [],
   "source": [
    "def scan(ip):\n",
    "    arp_packet = scapy.ARP(pdst=ip)\n",
    "    broadcast_packet = scapy.Ether(dst=\"ff:ff:ff:ff:ff:ff\")\n",
    "    arp_broadcast_packet = broadcast_packet/arp_packet\n",
    "    answered_list = scapy.srp(arp_broadcast_packet, timeout=10, verbose=False)[0]\n",
    "    client_list = []\n",
    "\n",
    "    for element in answered_list:\n",
    "        client_dict = {\"ip\": element[1].psrc, \"mac\": element[1].hwsrc}\n",
    "        client_list.append(client_dict)\n",
    "\n",
    "    return client_list"
   ]
  },
  {
   "cell_type": "code",
   "execution_count": null,
   "metadata": {},
   "outputs": [],
   "source": [
    "Ip=[]\n",
    "Mac =[]\n",
    "def print_result(scan_list):\n",
    "    print(\"IP\\t\\t\\tMAC\\n----------------------------------------\")\n",
    "    for client in scan_list:\n",
    "        Ip.append(client[\"ip\"])\n",
    "        Mac.append(client[\"mac\"])\n",
    "        print(client[\"ip\"] + \"\\t\\t\" + client[\"mac\"])\n"
   ]
  },
  {
   "cell_type": "code",
   "execution_count": null,
   "metadata": {},
   "outputs": [],
   "source": [
    "result_list = scan(\"192.168.102.109/24\")\n",
    "print_result(result_list)"
   ]
  },
  {
   "cell_type": "code",
   "execution_count": null,
   "metadata": {},
   "outputs": [],
   "source": [
    "ct = datetime.datetime.now()"
   ]
  },
  {
   "cell_type": "code",
   "execution_count": null,
   "metadata": {},
   "outputs": [],
   "source": [
    "def extractServiceName(x):\n",
    "    if x in  Mac:\n",
    "        return x\n",
    "    else:\n",
    "        return ''\n",
    "\n",
    "Data['Status'] = Data['MAC'].apply(lambda x : 'Present' if x in extractServiceName(x) else 'Absent')\n",
    "Data['Time'] = Data['MAC'].apply(lambda x : ct if x in extractServiceName(x) else ct)\n",
    "\n",
    "Data.to_csv('Attendance.csv', index=False)"
   ]
  },
  {
   "cell_type": "code",
   "execution_count": null,
   "metadata": {},
   "outputs": [],
   "source": [
    "Data"
   ]
  }
 ],
 "metadata": {
  "kernelspec": {
   "display_name": "Python 3",
   "language": "python",
   "name": "python3"
  },
  "language_info": {
   "codemirror_mode": {
    "name": "ipython",
    "version": 3
   },
   "file_extension": ".py",
   "mimetype": "text/x-python",
   "name": "python",
   "nbconvert_exporter": "python",
   "pygments_lexer": "ipython3",
   "version": "3.10.5"
  },
  "orig_nbformat": 4,
  "vscode": {
   "interpreter": {
    "hash": "1ce4ab41de5e60bb6ed1e6d98083279fcdd09272dfa38fc11d3c0040da5f242a"
   }
  }
 },
 "nbformat": 4,
 "nbformat_minor": 2
}
